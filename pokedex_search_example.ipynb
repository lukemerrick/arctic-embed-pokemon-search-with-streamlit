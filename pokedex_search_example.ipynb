{
 "cells": [
  {
   "cell_type": "code",
   "execution_count": 1,
   "id": "0b92bb71-9e6a-49bb-9686-226ae9bba4cb",
   "metadata": {},
   "outputs": [],
   "source": [
    "import os\n",
    "import re\n",
    "from typing import Sequence\n",
    "\n",
    "import pandas as pd\n",
    "import torch\n",
    "from tqdm.auto import tqdm\n",
    "from transformers import AutoModel, AutoTokenizer"
   ]
  },
  {
   "cell_type": "code",
   "execution_count": 2,
   "id": "77b06db0-c2cc-4028-8caa-2c308cf3c635",
   "metadata": {},
   "outputs": [],
   "source": [
    "# Disable parallelized tokenization to avoid warnings.\n",
    "os.environ[\"TOKENIZERS_PARALLELISM\"] = \"false\""
   ]
  },
  {
   "cell_type": "code",
   "execution_count": 3,
   "id": "78cc3a05-8249-4f25-8eb6-678bc9a47650",
   "metadata": {},
   "outputs": [],
   "source": [
    "model_name = \"Snowflake/snowflake-arctic-embed-xs\"\n",
    "embedding_dim = 384\n",
    "query_prefix = \"Represent this sentence for searching relevant passages: \"\n",
    "tokenizer = AutoTokenizer.from_pretrained(model_name)\n",
    "model = AutoModel.from_pretrained(model_name, add_pooling_layer=False)\n",
    "model.eval()\n",
    "model = model.to(\"mps\")  # Use Mac hardware acceleration.\n",
    "\n"
   ]
  },
  {
   "cell_type": "code",
   "execution_count": 4,
   "id": "9855eb1a-3cb3-477c-bc5c-bfd742c62539",
   "metadata": {},
   "outputs": [
    {
     "ename": "NameError",
     "evalue": "name 'embed' is not defined",
     "output_type": "error",
     "traceback": [
      "\u001b[0;31m---------------------------------------------------------------------------\u001b[0m",
      "\u001b[0;31mNameError\u001b[0m                                 Traceback (most recent call last)",
      "Cell \u001b[0;32mIn[4], line 4\u001b[0m\n\u001b[1;32m      2\u001b[0m queries  \u001b[38;5;241m=\u001b[39m [\u001b[38;5;124m'\u001b[39m\u001b[38;5;124mwhat is snowflake?\u001b[39m\u001b[38;5;124m'\u001b[39m, \u001b[38;5;124m'\u001b[39m\u001b[38;5;124mWhere can I get the best tacos?\u001b[39m\u001b[38;5;124m'\u001b[39m]\n\u001b[1;32m      3\u001b[0m documents \u001b[38;5;241m=\u001b[39m [\u001b[38;5;124m'\u001b[39m\u001b[38;5;124mThe Data Cloud!\u001b[39m\u001b[38;5;124m'\u001b[39m, \u001b[38;5;124m'\u001b[39m\u001b[38;5;124mMexico City of Course!\u001b[39m\u001b[38;5;124m'\u001b[39m]\n\u001b[0;32m----> 4\u001b[0m query_embeddings \u001b[38;5;241m=\u001b[39m \u001b[43membed\u001b[49m(queries, is_query\u001b[38;5;241m=\u001b[39m\u001b[38;5;28;01mTrue\u001b[39;00m)\n\u001b[1;32m      5\u001b[0m document_embeddings \u001b[38;5;241m=\u001b[39m embed(documents)\n\u001b[1;32m      7\u001b[0m scores \u001b[38;5;241m=\u001b[39m torch\u001b[38;5;241m.\u001b[39mmm(query_embeddings, document_embeddings\u001b[38;5;241m.\u001b[39mtranspose(\u001b[38;5;241m0\u001b[39m, \u001b[38;5;241m1\u001b[39m))\n",
      "\u001b[0;31mNameError\u001b[0m: name 'embed' is not defined"
     ]
    }
   ],
   "source": [
    "# Example.\n",
    "queries  = ['what is snowflake?', 'Where can I get the best tacos?']\n",
    "documents = ['The Data Cloud!', 'Mexico City of Course!']\n",
    "query_embeddings = embed(queries, is_query=True)\n",
    "document_embeddings = embed(documents)\n",
    "\n",
    "scores = torch.mm(query_embeddings, document_embeddings.transpose(0, 1))\n",
    "for query, query_scores in zip(queries, scores):\n",
    "    doc_score_pairs = list(zip(documents, query_scores.tolist()))\n",
    "    doc_score_pairs = sorted(doc_score_pairs, key=lambda x: x[1], reverse=True)\n",
    "    # Output passages & scores.\n",
    "    print(\"Query:\", query)\n",
    "    for document, score in doc_score_pairs:\n",
    "        print(f\"{score:.4f} {document}\")"
   ]
  },
  {
   "cell_type": "markdown",
   "id": "35da9630-73b1-4a6f-8dfb-d5ecab3dd934",
   "metadata": {},
   "source": [
    "# Pokemon time"
   ]
  },
  {
   "cell_type": "code",
   "execution_count": null,
   "id": "6ee53ebd-502b-4820-a1c4-d6c2b90d7cd9",
   "metadata": {},
   "outputs": [],
   "source": [
    "df = pd.read_csv(\"all_the_pokemon.csv\")\n",
    "docs = df[\"description\"].tolist()\n",
    "df.head()"
   ]
  },
  {
   "cell_type": "code",
   "execution_count": null,
   "id": "49d49c57-3851-4100-9e56-9c58b23234f4",
   "metadata": {},
   "outputs": [],
   "source": [
    "print(docs[500])"
   ]
  },
  {
   "cell_type": "code",
   "execution_count": null,
   "id": "d44150a0-dc5a-4d39-a450-628a27966a6c",
   "metadata": {},
   "outputs": [],
   "source": [
    "description_wc = pd.Series(len(re.split(\"\\W+\", doc)) for doc in docs)\n",
    "ax = description_wc.plot.hist(bins=60)\n",
    "ax.set_xlabel(\"Description Word Count\")"
   ]
  },
  {
   "cell_type": "code",
   "execution_count": null,
   "id": "d1e4c152-e8d3-4268-a903-f94e725c458c",
   "metadata": {},
   "outputs": [],
   "source": [
    "batch_size = 16\n",
    "embeddings_list = []\n",
    "with tqdm(total=len(docs), desc=\"Embedding The Pokemon!\", unit=\"doc\", smoothing=0) as pbar:\n",
    "    for start in range(0, len(docs), batch_size):\n",
    "        end = start + batch_size\n",
    "        batch = docs[start:end]\n",
    "        embeddings = embed(batch)\n",
    "        embeddings_list.append(embeddings)\n",
    "        pbar.update(len(batch))\n",
    "embeddings = torch.cat(embeddings_list)"
   ]
  },
  {
   "cell_type": "code",
   "execution_count": null,
   "id": "6e1ac5ab-0e1c-4f01-83a1-5170a0c7ebed",
   "metadata": {},
   "outputs": [],
   "source": [
    "q_emb = embed([\"scary monster\"], is_query=True)"
   ]
  },
  {
   "cell_type": "code",
   "execution_count": null,
   "id": "0559292f-35a2-44ff-8b2b-234dc096591c",
   "metadata": {},
   "outputs": [],
   "source": [
    "scores = (q_emb @ embeddings.T).squeeze()"
   ]
  },
  {
   "cell_type": "code",
   "execution_count": null,
   "id": "edec7fd4-fe6c-407d-a3b7-6154f62bf438",
   "metadata": {},
   "outputs": [],
   "source": [
    "topk = torch.topk(scores, 15)\n",
    "topk_scores = topk.values.cpu().numpy()\n",
    "topk_ind = topk.indices.cpu().numpy()"
   ]
  },
  {
   "cell_type": "code",
   "execution_count": null,
   "id": "a4284757-70e7-45f2-b481-44a9f179732d",
   "metadata": {},
   "outputs": [],
   "source": [
    "results = df.iloc[topk_ind, :].copy()\n",
    "results[\"score\"] = topk_scores\n",
    "results"
   ]
  },
  {
   "cell_type": "code",
   "execution_count": null,
   "id": "c4d9614b-1073-4dac-a49e-674180f4e433",
   "metadata": {},
   "outputs": [],
   "source": []
  }
 ],
 "metadata": {
  "kernelspec": {
   "display_name": "Python 3 (ipykernel)",
   "language": "python",
   "name": "python3"
  },
  "language_info": {
   "codemirror_mode": {
    "name": "ipython",
    "version": 3
   },
   "file_extension": ".py",
   "mimetype": "text/x-python",
   "name": "python",
   "nbconvert_exporter": "python",
   "pygments_lexer": "ipython3",
   "version": "3.11.8"
  }
 },
 "nbformat": 4,
 "nbformat_minor": 5
}
